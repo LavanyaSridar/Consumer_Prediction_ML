{
 "cells": [
  {
   "cell_type": "code",
   "execution_count": 2,
   "metadata": {
    "cell_id": "3bbcc0a4f9b54bbe88bbfc8a2d8615b6",
    "deepnote_cell_type": "code",
    "deepnote_to_be_reexecuted": false,
    "execution_millis": 10158,
    "execution_start": 1675783983013,
    "source_hash": "cb937b92",
    "tags": []
   },
   "outputs": [
    {
     "name": "stdout",
     "output_type": "stream",
     "text": [
      "Collecting xgboost==1.7.3\n",
      "  Downloading xgboost-1.7.3-py3-none-manylinux2014_x86_64.whl (193.6 MB)\n",
      "\u001b[2K     \u001b[90m━━━━━━━━━━━━━━━━━━━━━━━━━━━━━━━━━━━━━━\u001b[0m \u001b[32m193.6/193.6 MB\u001b[0m \u001b[31m12.3 MB/s\u001b[0m eta \u001b[36m0:00:00\u001b[0m\n",
      "\u001b[?25hRequirement already satisfied: scipy in /shared-libs/python3.9/py/lib/python3.9/site-packages (from xgboost==1.7.3) (1.9.3)\n",
      "Requirement already satisfied: numpy in /shared-libs/python3.9/py/lib/python3.9/site-packages (from xgboost==1.7.3) (1.23.4)\n",
      "Installing collected packages: xgboost\n",
      "Successfully installed xgboost-1.7.3\n",
      "\u001b[33mWARNING: You are using pip version 22.0.4; however, version 23.0 is available.\n",
      "You should consider upgrading via the '/root/venv/bin/python -m pip install --upgrade pip' command.\u001b[0m\u001b[33m\n",
      "\u001b[0m"
     ]
    }
   ],
   "source": [
    "!pip install xgboost==1.7.3"
   ]
  },
  {
   "cell_type": "code",
   "execution_count": 3,
   "metadata": {
    "cell_id": "2ffacc49515843f7a6fdf7cb95821d9f",
    "deepnote_cell_type": "code",
    "deepnote_to_be_reexecuted": false,
    "execution_millis": 1129,
    "execution_start": 1675784007574,
    "source_hash": "241b91b",
    "tags": []
   },
   "outputs": [],
   "source": [
    "\n",
    "from xgboost import XGBRegressor\n",
    "from sklearn.model_selection import train_test_split\n",
    "from sklearn.model_selection import cross_val_score\n",
    "from sklearn.metrics import mean_squared_error\n",
    "import matplotlib.pyplot as plt\n",
    "import pandas as pd\n",
    "import numpy as np"
   ]
  },
  {
   "cell_type": "code",
   "execution_count": 5,
   "metadata": {
    "cell_id": "e001608fcbce4c5c95b1f293c5fc0f98",
    "deepnote_cell_type": "code",
    "deepnote_to_be_reexecuted": false,
    "execution_millis": 152,
    "execution_start": 1675784097550,
    "source_hash": "7cc44ab1",
    "tags": []
   },
   "outputs": [
    {
     "data": {
      "application/vnd.deepnote.dataframe.v3+json": {
       "column_count": 12,
       "columns": [
        {
         "dtype": "int64",
         "name": "FMCG_CID",
         "stats": {
          "histogram": [
           {
            "bin_end": 120612.9,
            "bin_start": 110187,
            "count": 319
           },
           {
            "bin_end": 131038.8,
            "bin_start": 120612.9,
            "count": 340
           },
           {
            "bin_end": 141464.7,
            "bin_start": 131038.8,
            "count": 402
           },
           {
            "bin_end": 151890.6,
            "bin_start": 141464.7,
            "count": 348
           },
           {
            "bin_end": 162316.5,
            "bin_start": 151890.6,
            "count": 355
           },
           {
            "bin_end": 172742.4,
            "bin_start": 162316.5,
            "count": 391
           },
           {
            "bin_end": 183168.3,
            "bin_start": 172742.4,
            "count": 363
           },
           {
            "bin_end": 193594.2,
            "bin_start": 183168.3,
            "count": 371
           },
           {
            "bin_end": 204020.09999999998,
            "bin_start": 193594.2,
            "count": 330
           },
           {
            "bin_end": 214446,
            "bin_start": 204020.09999999998,
            "count": 343
           }
          ],
          "max": "214446",
          "min": "110187",
          "nan_count": 0,
          "unique_count": 3500
         }
        },
        {
         "dtype": "int64",
         "name": "CurrentBalance",
         "stats": {
          "histogram": [
           {
            "bin_end": 11103812.7,
            "bin_start": 1226904,
            "count": 306
           },
           {
            "bin_end": 20980721.4,
            "bin_start": 11103812.7,
            "count": 370
           },
           {
            "bin_end": 30857630.099999998,
            "bin_start": 20980721.4,
            "count": 385
           },
           {
            "bin_end": 40734538.8,
            "bin_start": 30857630.099999998,
            "count": 351
           },
           {
            "bin_end": 50611447.5,
            "bin_start": 40734538.8,
            "count": 334
           },
           {
            "bin_end": 60488356.199999996,
            "bin_start": 50611447.5,
            "count": 372
           },
           {
            "bin_end": 70365264.89999999,
            "bin_start": 60488356.199999996,
            "count": 342
           },
           {
            "bin_end": 80242173.6,
            "bin_start": 70365264.89999999,
            "count": 399
           },
           {
            "bin_end": 90119082.3,
            "bin_start": 80242173.6,
            "count": 325
           },
           {
            "bin_end": 99995991,
            "bin_start": 90119082.3,
            "count": 378
           }
          ],
          "max": "99995991",
          "min": "1226904",
          "nan_count": 0,
          "unique_count": 3562
         }
        },
        {
         "dtype": "int64",
         "name": "YearInflow",
         "stats": {
          "histogram": [
           {
            "bin_end": 11005148207.9,
            "bin_start": 1118370182,
            "count": 350
           },
           {
            "bin_end": 20891926233.8,
            "bin_start": 11005148207.9,
            "count": 345
           },
           {
            "bin_end": 30778704259.699997,
            "bin_start": 20891926233.8,
            "count": 350
           },
           {
            "bin_end": 40665482285.6,
            "bin_start": 30778704259.699997,
            "count": 337
           },
           {
            "bin_end": 50552260311.5,
            "bin_start": 40665482285.6,
            "count": 368
           },
           {
            "bin_end": 60439038337.399994,
            "bin_start": 50552260311.5,
            "count": 386
           },
           {
            "bin_end": 70325816363.3,
            "bin_start": 60439038337.399994,
            "count": 360
           },
           {
            "bin_end": 80212594389.2,
            "bin_start": 70325816363.3,
            "count": 366
           },
           {
            "bin_end": 90099372415.09999,
            "bin_start": 80212594389.2,
            "count": 336
           },
           {
            "bin_end": 99986150441,
            "bin_start": 90099372415.09999,
            "count": 364
           }
          ],
          "max": "99986150441",
          "min": "1118370182",
          "nan_count": 0,
          "unique_count": 3562
         }
        },
        {
         "dtype": "int64",
         "name": "ManualTransactions",
         "stats": {
          "histogram": [
           {
            "bin_end": 111527.8,
            "bin_start": 12604,
            "count": 357
           },
           {
            "bin_end": 210451.6,
            "bin_start": 111527.8,
            "count": 360
           },
           {
            "bin_end": 309375.4,
            "bin_start": 210451.6,
            "count": 373
           },
           {
            "bin_end": 408299.2,
            "bin_start": 309375.4,
            "count": 343
           },
           {
            "bin_end": 507223,
            "bin_start": 408299.2,
            "count": 362
           },
           {
            "bin_end": 606146.8,
            "bin_start": 507223,
            "count": 361
           },
           {
            "bin_end": 705070.6,
            "bin_start": 606146.8,
            "count": 348
           },
           {
            "bin_end": 803994.4,
            "bin_start": 705070.6,
            "count": 351
           },
           {
            "bin_end": 902918.2000000001,
            "bin_start": 803994.4,
            "count": 353
           },
           {
            "bin_end": 1001842,
            "bin_start": 902918.2000000001,
            "count": 354
           }
          ],
          "max": "1001842",
          "min": "12604",
          "nan_count": 0,
          "unique_count": 3557
         }
        },
        {
         "dtype": "int64",
         "name": "onlineTransactions",
         "stats": {
          "histogram": [
           {
            "bin_end": 110245738.9,
            "bin_start": 11401767,
            "count": 348
           },
           {
            "bin_end": 209089710.8,
            "bin_start": 110245738.9,
            "count": 370
           },
           {
            "bin_end": 307933682.70000005,
            "bin_start": 209089710.8,
            "count": 351
           },
           {
            "bin_end": 406777654.6,
            "bin_start": 307933682.70000005,
            "count": 324
           },
           {
            "bin_end": 505621626.5,
            "bin_start": 406777654.6,
            "count": 367
           },
           {
            "bin_end": 604465598.4000001,
            "bin_start": 505621626.5,
            "count": 346
           },
           {
            "bin_end": 703309570.3000001,
            "bin_start": 604465598.4000001,
            "count": 380
           },
           {
            "bin_end": 802153542.2,
            "bin_start": 703309570.3000001,
            "count": 362
           },
           {
            "bin_end": 900997514.1,
            "bin_start": 802153542.2,
            "count": 360
           },
           {
            "bin_end": 999841486,
            "bin_start": 900997514.1,
            "count": 354
           }
          ],
          "max": "999841486",
          "min": "11401767",
          "nan_count": 0,
          "unique_count": 3562
         }
        },
        {
         "dtype": "int64",
         "name": "TotalTransactions",
         "stats": {
          "histogram": [
           {
            "bin_end": 110604303.3,
            "bin_start": 11782705,
            "count": 348
           },
           {
            "bin_end": 209425901.6,
            "bin_start": 110604303.3,
            "count": 370
           },
           {
            "bin_end": 308247499.9,
            "bin_start": 209425901.6,
            "count": 351
           },
           {
            "bin_end": 407069098.2,
            "bin_start": 308247499.9,
            "count": 319
           },
           {
            "bin_end": 505890696.5,
            "bin_start": 407069098.2,
            "count": 371
           },
           {
            "bin_end": 604712294.8,
            "bin_start": 505890696.5,
            "count": 347
           },
           {
            "bin_end": 703533893.1,
            "bin_start": 604712294.8,
            "count": 380
           },
           {
            "bin_end": 802355491.4,
            "bin_start": 703533893.1,
            "count": 360
           },
           {
            "bin_end": 901177089.6999999,
            "bin_start": 802355491.4,
            "count": 361
           },
           {
            "bin_end": 999998688,
            "bin_start": 901177089.6999999,
            "count": 355
           }
          ],
          "max": "999998688",
          "min": "11782705",
          "nan_count": 0,
          "unique_count": 3562
         }
        },
        {
         "dtype": "int64",
         "name": "NoOfclosedAccounts",
         "stats": {
          "histogram": [
           {
            "bin_end": 10039.6,
            "bin_start": 14,
            "count": 2664
           },
           {
            "bin_end": 20065.2,
            "bin_start": 10039.6,
            "count": 86
           },
           {
            "bin_end": 30090.800000000003,
            "bin_start": 20065.2,
            "count": 103
           },
           {
            "bin_end": 40116.4,
            "bin_start": 30090.800000000003,
            "count": 113
           },
           {
            "bin_end": 50142,
            "bin_start": 40116.4,
            "count": 86
           },
           {
            "bin_end": 60167.600000000006,
            "bin_start": 50142,
            "count": 102
           },
           {
            "bin_end": 70193.2,
            "bin_start": 60167.600000000006,
            "count": 98
           },
           {
            "bin_end": 80218.8,
            "bin_start": 70193.2,
            "count": 102
           },
           {
            "bin_end": 90244.40000000001,
            "bin_start": 80218.8,
            "count": 109
           },
           {
            "bin_end": 100270,
            "bin_start": 90244.40000000001,
            "count": 99
           }
          ],
          "max": "100270",
          "min": "14",
          "nan_count": 0,
          "unique_count": 1957
         }
        },
        {
         "dtype": "int64",
         "name": "NewAccountsOpened",
         "stats": {
          "histogram": [
           {
            "bin_end": 2020.3,
            "bin_start": 1128,
            "count": 370
           },
           {
            "bin_end": 2912.6,
            "bin_start": 2020.3,
            "count": 365
           },
           {
            "bin_end": 3804.8999999999996,
            "bin_start": 2912.6,
            "count": 330
           },
           {
            "bin_end": 4697.2,
            "bin_start": 3804.8999999999996,
            "count": 335
           },
           {
            "bin_end": 5589.5,
            "bin_start": 4697.2,
            "count": 362
           },
           {
            "bin_end": 6481.799999999999,
            "bin_start": 5589.5,
            "count": 317
           },
           {
            "bin_end": 7374.099999999999,
            "bin_start": 6481.799999999999,
            "count": 370
           },
           {
            "bin_end": 8266.4,
            "bin_start": 7374.099999999999,
            "count": 365
           },
           {
            "bin_end": 9158.7,
            "bin_start": 8266.4,
            "count": 360
           },
           {
            "bin_end": 10051,
            "bin_start": 9158.7,
            "count": 388
           }
          ],
          "max": "10051",
          "min": "1128",
          "nan_count": 0,
          "unique_count": 2938
         }
        },
        {
         "dtype": "int64",
         "name": "No.ofchequeBounces",
         "stats": {
          "histogram": [
           {
            "bin_end": 1018,
            "bin_start": 15,
            "count": 357
           },
           {
            "bin_end": 2021,
            "bin_start": 1018,
            "count": 370
           },
           {
            "bin_end": 3024,
            "bin_start": 2021,
            "count": 348
           },
           {
            "bin_end": 4027,
            "bin_start": 3024,
            "count": 375
           },
           {
            "bin_end": 5030,
            "bin_start": 4027,
            "count": 347
           },
           {
            "bin_end": 6033,
            "bin_start": 5030,
            "count": 365
           },
           {
            "bin_end": 7036,
            "bin_start": 6033,
            "count": 329
           },
           {
            "bin_end": 8039,
            "bin_start": 7036,
            "count": 341
           },
           {
            "bin_end": 9042,
            "bin_start": 8039,
            "count": 370
           },
           {
            "bin_end": 10045,
            "bin_start": 9042,
            "count": 360
           }
          ],
          "max": "10045",
          "min": "15",
          "nan_count": 0,
          "unique_count": 3000
         }
        },
        {
         "dtype": "int64",
         "name": "No.of failedtransactions",
         "stats": {
          "histogram": [
           {
            "bin_end": 1018917.2,
            "bin_start": 20833,
            "count": 362
           },
           {
            "bin_end": 2017001.4,
            "bin_start": 1018917.2,
            "count": 359
           },
           {
            "bin_end": 3015085.5999999996,
            "bin_start": 2017001.4,
            "count": 371
           },
           {
            "bin_end": 4013169.8,
            "bin_start": 3015085.5999999996,
            "count": 349
           },
           {
            "bin_end": 5011254,
            "bin_start": 4013169.8,
            "count": 364
           },
           {
            "bin_end": 6009338.199999999,
            "bin_start": 5011254,
            "count": 349
           },
           {
            "bin_end": 7007422.399999999,
            "bin_start": 6009338.199999999,
            "count": 353
           },
           {
            "bin_end": 8005506.6,
            "bin_start": 7007422.399999999,
            "count": 345
           },
           {
            "bin_end": 9003590.799999999,
            "bin_start": 8005506.6,
            "count": 342
           },
           {
            "bin_end": 10001675,
            "bin_start": 9003590.799999999,
            "count": 368
           }
          ],
          "max": "10001675",
          "min": "20833",
          "nan_count": 0,
          "unique_count": 3562
         }
        },
        {
         "dtype": "int64",
         "name": "YearOutflow",
         "stats": {
          "histogram": [
           {
            "bin_end": 11002461699.2,
            "bin_start": 1114196239,
            "count": 315
           },
           {
            "bin_end": 20890727159.4,
            "bin_start": 11002461699.2,
            "count": 378
           },
           {
            "bin_end": 30778992619.600002,
            "bin_start": 20890727159.4,
            "count": 408
           },
           {
            "bin_end": 40667258079.8,
            "bin_start": 30778992619.600002,
            "count": 362
           },
           {
            "bin_end": 50555523540,
            "bin_start": 40667258079.8,
            "count": 317
           },
           {
            "bin_end": 60443789000.200005,
            "bin_start": 50555523540,
            "count": 372
           },
           {
            "bin_end": 70332054460.40001,
            "bin_start": 60443789000.200005,
            "count": 383
           },
           {
            "bin_end": 80220319920.6,
            "bin_start": 70332054460.40001,
            "count": 346
           },
           {
            "bin_end": 90108585380.8,
            "bin_start": 80220319920.6,
            "count": 318
           },
           {
            "bin_end": 99996850841,
            "bin_start": 90108585380.8,
            "count": 363
           }
          ],
          "max": "99996850841",
          "min": "1114196239",
          "nan_count": 0,
          "unique_count": 3562
         }
        },
        {
         "dtype": "int64",
         "name": "OverallPerspective",
         "stats": {
          "histogram": [
           {
            "bin_end": 0.2,
            "bin_start": 0,
            "count": 876
           },
           {
            "bin_end": 0.4,
            "bin_start": 0.2,
            "count": 0
           },
           {
            "bin_end": 0.6000000000000001,
            "bin_start": 0.4,
            "count": 0
           },
           {
            "bin_end": 0.8,
            "bin_start": 0.6000000000000001,
            "count": 0
           },
           {
            "bin_end": 1,
            "bin_start": 0.8,
            "count": 0
           },
           {
            "bin_end": 1.2000000000000002,
            "bin_start": 1,
            "count": 1875
           },
           {
            "bin_end": 1.4000000000000001,
            "bin_start": 1.2000000000000002,
            "count": 0
           },
           {
            "bin_end": 1.6,
            "bin_start": 1.4000000000000001,
            "count": 0
           },
           {
            "bin_end": 1.8,
            "bin_start": 1.6,
            "count": 0
           },
           {
            "bin_end": 2,
            "bin_start": 1.8,
            "count": 811
           }
          ],
          "max": "2",
          "min": "0",
          "nan_count": 0,
          "unique_count": 3
         }
        },
        {
         "dtype": "int64",
         "name": "_deepnote_index_column"
        }
       ],
       "row_count": 3562,
       "rows": [
        {
         "CurrentBalance": "69016351",
         "FMCG_CID": "191416",
         "ManualTransactions": "881084",
         "NewAccountsOpened": "2568",
         "No.of failedtransactions": "5815035",
         "No.ofchequeBounces": "1920",
         "NoOfclosedAccounts": "628",
         "OverallPerspective": "2",
         "TotalTransactions": "81388116",
         "YearInflow": "91506260144",
         "YearOutflow": "70559611954",
         "_deepnote_index_column": "0",
         "onlineTransactions": "80508181"
        },
        {
         "CurrentBalance": "78967829",
         "FMCG_CID": "209212",
         "ManualTransactions": "938424",
         "NewAccountsOpened": "4848",
         "No.of failedtransactions": "2064860",
         "No.ofchequeBounces": "1226",
         "NoOfclosedAccounts": "657",
         "OverallPerspective": "1",
         "TotalTransactions": "377174919",
         "YearInflow": "39488497795",
         "YearOutflow": "76650316850",
         "_deepnote_index_column": "1",
         "onlineTransactions": "376237471"
        },
        {
         "CurrentBalance": "90414487",
         "FMCG_CID": "198656",
         "ManualTransactions": "15711",
         "NewAccountsOpened": "4161",
         "No.of failedtransactions": "7078893",
         "No.ofchequeBounces": "9660",
         "NoOfclosedAccounts": "171",
         "OverallPerspective": "0",
         "TotalTransactions": "447256753",
         "YearInflow": "20882686190",
         "YearOutflow": "34697341013",
         "_deepnote_index_column": "2",
         "onlineTransactions": "447244560"
        },
        {
         "CurrentBalance": "6280075",
         "FMCG_CID": "112274",
         "ManualTransactions": "696044",
         "NewAccountsOpened": "7990",
         "No.of failedtransactions": "5060759",
         "No.ofchequeBounces": "7477",
         "NoOfclosedAccounts": "1023",
         "OverallPerspective": "2",
         "TotalTransactions": "751030847",
         "YearInflow": "99570394528",
         "YearOutflow": "52716316728",
         "_deepnote_index_column": "3",
         "onlineTransactions": "750336814"
        },
        {
         "CurrentBalance": "20924361",
         "FMCG_CID": "167709",
         "ManualTransactions": "335402",
         "NewAccountsOpened": "9150",
         "No.of failedtransactions": "1623524",
         "No.ofchequeBounces": "553",
         "NoOfclosedAccounts": "905",
         "OverallPerspective": "1",
         "TotalTransactions": "146138325",
         "YearInflow": "31245289761",
         "YearOutflow": "68610729503",
         "_deepnote_index_column": "4",
         "onlineTransactions": "145805047"
        },
        {
         "CurrentBalance": "2161363",
         "FMCG_CID": "152514",
         "ManualTransactions": "171126",
         "NewAccountsOpened": "6316",
         "No.of failedtransactions": "1986099",
         "No.ofchequeBounces": "875",
         "NoOfclosedAccounts": "849",
         "OverallPerspective": "1",
         "TotalTransactions": "546733812",
         "YearInflow": "40405972261",
         "YearOutflow": "57236540764",
         "_deepnote_index_column": "5",
         "onlineTransactions": "546564637"
        },
        {
         "CurrentBalance": "97708558",
         "FMCG_CID": "168248",
         "ManualTransactions": "710318",
         "NewAccountsOpened": "2608",
         "No.of failedtransactions": "8160581",
         "No.ofchequeBounces": "8699",
         "NoOfclosedAccounts": "572",
         "OverallPerspective": "1",
         "TotalTransactions": "747299224",
         "YearInflow": "61217256861",
         "YearOutflow": "13922332788",
         "_deepnote_index_column": "6",
         "onlineTransactions": "746591928"
        },
        {
         "CurrentBalance": "63705074",
         "FMCG_CID": "127210",
         "ManualTransactions": "819263",
         "NewAccountsOpened": "9413",
         "No.of failedtransactions": "9051656",
         "No.ofchequeBounces": "9066",
         "NoOfclosedAccounts": "160",
         "OverallPerspective": "0",
         "TotalTransactions": "979442851",
         "YearInflow": "32460022155",
         "YearOutflow": "32657422593",
         "_deepnote_index_column": "7",
         "onlineTransactions": "978627541"
        },
        {
         "CurrentBalance": "30297740",
         "FMCG_CID": "173085",
         "ManualTransactions": "388705",
         "NewAccountsOpened": "9811",
         "No.of failedtransactions": "6484858",
         "No.ofchequeBounces": "5529",
         "NoOfclosedAccounts": "308",
         "OverallPerspective": "1",
         "TotalTransactions": "432407236",
         "YearInflow": "65694235709",
         "YearOutflow": "16905688847",
         "_deepnote_index_column": "8",
         "onlineTransactions": "432022383"
        },
        {
         "CurrentBalance": "44455116",
         "FMCG_CID": "202281",
         "ManualTransactions": "39026",
         "NewAccountsOpened": "5413",
         "No.of failedtransactions": "3225681",
         "No.ofchequeBounces": "6101",
         "NoOfclosedAccounts": "332",
         "OverallPerspective": "0",
         "TotalTransactions": "349427131",
         "YearInflow": "20601278336",
         "YearOutflow": "12309119087",
         "_deepnote_index_column": "9",
         "onlineTransactions": "349390950"
        }
       ]
      },
      "text/html": [
       "<div>\n",
       "<style scoped>\n",
       "    .dataframe tbody tr th:only-of-type {\n",
       "        vertical-align: middle;\n",
       "    }\n",
       "\n",
       "    .dataframe tbody tr th {\n",
       "        vertical-align: top;\n",
       "    }\n",
       "\n",
       "    .dataframe thead th {\n",
       "        text-align: right;\n",
       "    }\n",
       "</style>\n",
       "<table border=\"1\" class=\"dataframe\">\n",
       "  <thead>\n",
       "    <tr style=\"text-align: right;\">\n",
       "      <th></th>\n",
       "      <th>FMCG_CID</th>\n",
       "      <th>CurrentBalance</th>\n",
       "      <th>YearInflow</th>\n",
       "      <th>ManualTransactions</th>\n",
       "      <th>onlineTransactions</th>\n",
       "      <th>TotalTransactions</th>\n",
       "      <th>NoOfclosedAccounts</th>\n",
       "      <th>NewAccountsOpened</th>\n",
       "      <th>No.ofchequeBounces</th>\n",
       "      <th>No.of failedtransactions</th>\n",
       "      <th>YearOutflow</th>\n",
       "      <th>OverallPerspective</th>\n",
       "    </tr>\n",
       "  </thead>\n",
       "  <tbody>\n",
       "    <tr>\n",
       "      <th>0</th>\n",
       "      <td>191416</td>\n",
       "      <td>69016351</td>\n",
       "      <td>91506260144</td>\n",
       "      <td>881084</td>\n",
       "      <td>80508181</td>\n",
       "      <td>81388116</td>\n",
       "      <td>628</td>\n",
       "      <td>2568</td>\n",
       "      <td>1920</td>\n",
       "      <td>5815035</td>\n",
       "      <td>70559611954</td>\n",
       "      <td>2</td>\n",
       "    </tr>\n",
       "    <tr>\n",
       "      <th>1</th>\n",
       "      <td>209212</td>\n",
       "      <td>78967829</td>\n",
       "      <td>39488497795</td>\n",
       "      <td>938424</td>\n",
       "      <td>376237471</td>\n",
       "      <td>377174919</td>\n",
       "      <td>657</td>\n",
       "      <td>4848</td>\n",
       "      <td>1226</td>\n",
       "      <td>2064860</td>\n",
       "      <td>76650316850</td>\n",
       "      <td>1</td>\n",
       "    </tr>\n",
       "    <tr>\n",
       "      <th>2</th>\n",
       "      <td>198656</td>\n",
       "      <td>90414487</td>\n",
       "      <td>20882686190</td>\n",
       "      <td>15711</td>\n",
       "      <td>447244560</td>\n",
       "      <td>447256753</td>\n",
       "      <td>171</td>\n",
       "      <td>4161</td>\n",
       "      <td>9660</td>\n",
       "      <td>7078893</td>\n",
       "      <td>34697341013</td>\n",
       "      <td>0</td>\n",
       "    </tr>\n",
       "    <tr>\n",
       "      <th>3</th>\n",
       "      <td>112274</td>\n",
       "      <td>6280075</td>\n",
       "      <td>99570394528</td>\n",
       "      <td>696044</td>\n",
       "      <td>750336814</td>\n",
       "      <td>751030847</td>\n",
       "      <td>1023</td>\n",
       "      <td>7990</td>\n",
       "      <td>7477</td>\n",
       "      <td>5060759</td>\n",
       "      <td>52716316728</td>\n",
       "      <td>2</td>\n",
       "    </tr>\n",
       "    <tr>\n",
       "      <th>4</th>\n",
       "      <td>167709</td>\n",
       "      <td>20924361</td>\n",
       "      <td>31245289761</td>\n",
       "      <td>335402</td>\n",
       "      <td>145805047</td>\n",
       "      <td>146138325</td>\n",
       "      <td>905</td>\n",
       "      <td>9150</td>\n",
       "      <td>553</td>\n",
       "      <td>1623524</td>\n",
       "      <td>68610729503</td>\n",
       "      <td>1</td>\n",
       "    </tr>\n",
       "    <tr>\n",
       "      <th>...</th>\n",
       "      <td>...</td>\n",
       "      <td>...</td>\n",
       "      <td>...</td>\n",
       "      <td>...</td>\n",
       "      <td>...</td>\n",
       "      <td>...</td>\n",
       "      <td>...</td>\n",
       "      <td>...</td>\n",
       "      <td>...</td>\n",
       "      <td>...</td>\n",
       "      <td>...</td>\n",
       "      <td>...</td>\n",
       "    </tr>\n",
       "    <tr>\n",
       "      <th>3557</th>\n",
       "      <td>177533</td>\n",
       "      <td>89792390</td>\n",
       "      <td>88959137721</td>\n",
       "      <td>304574</td>\n",
       "      <td>504674620</td>\n",
       "      <td>504975877</td>\n",
       "      <td>26991</td>\n",
       "      <td>6101</td>\n",
       "      <td>668</td>\n",
       "      <td>1665960</td>\n",
       "      <td>72733464307</td>\n",
       "      <td>2</td>\n",
       "    </tr>\n",
       "    <tr>\n",
       "      <th>3558</th>\n",
       "      <td>192011</td>\n",
       "      <td>95023319</td>\n",
       "      <td>7074381001</td>\n",
       "      <td>272775</td>\n",
       "      <td>537784287</td>\n",
       "      <td>538055290</td>\n",
       "      <td>63435</td>\n",
       "      <td>6368</td>\n",
       "      <td>7203</td>\n",
       "      <td>8969347</td>\n",
       "      <td>28044973777</td>\n",
       "      <td>0</td>\n",
       "    </tr>\n",
       "    <tr>\n",
       "      <th>3559</th>\n",
       "      <td>139443</td>\n",
       "      <td>18181001</td>\n",
       "      <td>85874788913</td>\n",
       "      <td>310596</td>\n",
       "      <td>522989501</td>\n",
       "      <td>523299375</td>\n",
       "      <td>33197</td>\n",
       "      <td>9347</td>\n",
       "      <td>7794</td>\n",
       "      <td>7907897</td>\n",
       "      <td>65412672883</td>\n",
       "      <td>2</td>\n",
       "    </tr>\n",
       "    <tr>\n",
       "      <th>3560</th>\n",
       "      <td>115618</td>\n",
       "      <td>2740737</td>\n",
       "      <td>53955602808</td>\n",
       "      <td>525284</td>\n",
       "      <td>434064343</td>\n",
       "      <td>434587065</td>\n",
       "      <td>55634</td>\n",
       "      <td>4733</td>\n",
       "      <td>2029</td>\n",
       "      <td>113484</td>\n",
       "      <td>66252535841</td>\n",
       "      <td>1</td>\n",
       "    </tr>\n",
       "    <tr>\n",
       "      <th>3561</th>\n",
       "      <td>123074</td>\n",
       "      <td>52642207</td>\n",
       "      <td>49582411735</td>\n",
       "      <td>81845</td>\n",
       "      <td>32961245</td>\n",
       "      <td>33040919</td>\n",
       "      <td>70698</td>\n",
       "      <td>9300</td>\n",
       "      <td>8313</td>\n",
       "      <td>8483265</td>\n",
       "      <td>18823729450</td>\n",
       "      <td>0</td>\n",
       "    </tr>\n",
       "  </tbody>\n",
       "</table>\n",
       "<p>3562 rows × 12 columns</p>\n",
       "</div>"
      ],
      "text/plain": [
       "      FMCG_CID  CurrentBalance   YearInflow  ManualTransactions  \\\n",
       "0       191416        69016351  91506260144              881084   \n",
       "1       209212        78967829  39488497795              938424   \n",
       "2       198656        90414487  20882686190               15711   \n",
       "3       112274         6280075  99570394528              696044   \n",
       "4       167709        20924361  31245289761              335402   \n",
       "...        ...             ...          ...                 ...   \n",
       "3557    177533        89792390  88959137721              304574   \n",
       "3558    192011        95023319   7074381001              272775   \n",
       "3559    139443        18181001  85874788913              310596   \n",
       "3560    115618         2740737  53955602808              525284   \n",
       "3561    123074        52642207  49582411735               81845   \n",
       "\n",
       "      onlineTransactions  TotalTransactions  NoOfclosedAccounts  \\\n",
       "0               80508181           81388116                 628   \n",
       "1              376237471          377174919                 657   \n",
       "2              447244560          447256753                 171   \n",
       "3              750336814          751030847                1023   \n",
       "4              145805047          146138325                 905   \n",
       "...                  ...                ...                 ...   \n",
       "3557           504674620          504975877               26991   \n",
       "3558           537784287          538055290               63435   \n",
       "3559           522989501          523299375               33197   \n",
       "3560           434064343          434587065               55634   \n",
       "3561            32961245           33040919               70698   \n",
       "\n",
       "      NewAccountsOpened  No.ofchequeBounces  No.of failedtransactions  \\\n",
       "0                  2568                1920                   5815035   \n",
       "1                  4848                1226                   2064860   \n",
       "2                  4161                9660                   7078893   \n",
       "3                  7990                7477                   5060759   \n",
       "4                  9150                 553                   1623524   \n",
       "...                 ...                 ...                       ...   \n",
       "3557               6101                 668                   1665960   \n",
       "3558               6368                7203                   8969347   \n",
       "3559               9347                7794                   7907897   \n",
       "3560               4733                2029                    113484   \n",
       "3561               9300                8313                   8483265   \n",
       "\n",
       "      YearOutflow  OverallPerspective  \n",
       "0     70559611954                   2  \n",
       "1     76650316850                   1  \n",
       "2     34697341013                   0  \n",
       "3     52716316728                   2  \n",
       "4     68610729503                   1  \n",
       "...           ...                 ...  \n",
       "3557  72733464307                   2  \n",
       "3558  28044973777                   0  \n",
       "3559  65412672883                   2  \n",
       "3560  66252535841                   1  \n",
       "3561  18823729450                   0  \n",
       "\n",
       "[3562 rows x 12 columns]"
      ]
     },
     "execution_count": 5,
     "metadata": {},
     "output_type": "execute_result"
    }
   ],
   "source": [
    "data=pd.read_csv(\"outflowset.csv\")\n",
    "data"
   ]
  },
  {
   "cell_type": "code",
   "execution_count": 7,
   "metadata": {
    "cell_id": "e0e25797bee74c8a810dda3badc235c7",
    "deepnote_cell_type": "code",
    "deepnote_to_be_reexecuted": false,
    "execution_millis": 0,
    "execution_start": 1675784166050,
    "source_hash": "4e1e0dc6",
    "tags": []
   },
   "outputs": [],
   "source": [
    "x=data.drop(columns='OverallPerspective') \n",
    "y=data['OverallPerspective']"
   ]
  },
  {
   "cell_type": "code",
   "execution_count": 8,
   "metadata": {
    "cell_id": "488d70d1936a4bcdb68be9e728231c09",
    "deepnote_cell_type": "code",
    "deepnote_to_be_reexecuted": false,
    "execution_millis": 77,
    "execution_start": 1675784174024,
    "source_hash": "577d5527",
    "tags": []
   },
   "outputs": [
    {
     "data": {
      "application/vnd.deepnote.dataframe.v3+json": {
       "column_count": 11,
       "columns": [
        {
         "dtype": "int64",
         "name": "FMCG_CID",
         "stats": {
          "histogram": [
           {
            "bin_end": 120612.9,
            "bin_start": 110187,
            "count": 319
           },
           {
            "bin_end": 131038.8,
            "bin_start": 120612.9,
            "count": 340
           },
           {
            "bin_end": 141464.7,
            "bin_start": 131038.8,
            "count": 402
           },
           {
            "bin_end": 151890.6,
            "bin_start": 141464.7,
            "count": 348
           },
           {
            "bin_end": 162316.5,
            "bin_start": 151890.6,
            "count": 355
           },
           {
            "bin_end": 172742.4,
            "bin_start": 162316.5,
            "count": 391
           },
           {
            "bin_end": 183168.3,
            "bin_start": 172742.4,
            "count": 363
           },
           {
            "bin_end": 193594.2,
            "bin_start": 183168.3,
            "count": 371
           },
           {
            "bin_end": 204020.09999999998,
            "bin_start": 193594.2,
            "count": 330
           },
           {
            "bin_end": 214446,
            "bin_start": 204020.09999999998,
            "count": 343
           }
          ],
          "max": "214446",
          "min": "110187",
          "nan_count": 0,
          "unique_count": 3500
         }
        },
        {
         "dtype": "int64",
         "name": "CurrentBalance",
         "stats": {
          "histogram": [
           {
            "bin_end": 11103812.7,
            "bin_start": 1226904,
            "count": 306
           },
           {
            "bin_end": 20980721.4,
            "bin_start": 11103812.7,
            "count": 370
           },
           {
            "bin_end": 30857630.099999998,
            "bin_start": 20980721.4,
            "count": 385
           },
           {
            "bin_end": 40734538.8,
            "bin_start": 30857630.099999998,
            "count": 351
           },
           {
            "bin_end": 50611447.5,
            "bin_start": 40734538.8,
            "count": 334
           },
           {
            "bin_end": 60488356.199999996,
            "bin_start": 50611447.5,
            "count": 372
           },
           {
            "bin_end": 70365264.89999999,
            "bin_start": 60488356.199999996,
            "count": 342
           },
           {
            "bin_end": 80242173.6,
            "bin_start": 70365264.89999999,
            "count": 399
           },
           {
            "bin_end": 90119082.3,
            "bin_start": 80242173.6,
            "count": 325
           },
           {
            "bin_end": 99995991,
            "bin_start": 90119082.3,
            "count": 378
           }
          ],
          "max": "99995991",
          "min": "1226904",
          "nan_count": 0,
          "unique_count": 3562
         }
        },
        {
         "dtype": "int64",
         "name": "YearInflow",
         "stats": {
          "histogram": [
           {
            "bin_end": 11005148207.9,
            "bin_start": 1118370182,
            "count": 350
           },
           {
            "bin_end": 20891926233.8,
            "bin_start": 11005148207.9,
            "count": 345
           },
           {
            "bin_end": 30778704259.699997,
            "bin_start": 20891926233.8,
            "count": 350
           },
           {
            "bin_end": 40665482285.6,
            "bin_start": 30778704259.699997,
            "count": 337
           },
           {
            "bin_end": 50552260311.5,
            "bin_start": 40665482285.6,
            "count": 368
           },
           {
            "bin_end": 60439038337.399994,
            "bin_start": 50552260311.5,
            "count": 386
           },
           {
            "bin_end": 70325816363.3,
            "bin_start": 60439038337.399994,
            "count": 360
           },
           {
            "bin_end": 80212594389.2,
            "bin_start": 70325816363.3,
            "count": 366
           },
           {
            "bin_end": 90099372415.09999,
            "bin_start": 80212594389.2,
            "count": 336
           },
           {
            "bin_end": 99986150441,
            "bin_start": 90099372415.09999,
            "count": 364
           }
          ],
          "max": "99986150441",
          "min": "1118370182",
          "nan_count": 0,
          "unique_count": 3562
         }
        },
        {
         "dtype": "int64",
         "name": "ManualTransactions",
         "stats": {
          "histogram": [
           {
            "bin_end": 111527.8,
            "bin_start": 12604,
            "count": 357
           },
           {
            "bin_end": 210451.6,
            "bin_start": 111527.8,
            "count": 360
           },
           {
            "bin_end": 309375.4,
            "bin_start": 210451.6,
            "count": 373
           },
           {
            "bin_end": 408299.2,
            "bin_start": 309375.4,
            "count": 343
           },
           {
            "bin_end": 507223,
            "bin_start": 408299.2,
            "count": 362
           },
           {
            "bin_end": 606146.8,
            "bin_start": 507223,
            "count": 361
           },
           {
            "bin_end": 705070.6,
            "bin_start": 606146.8,
            "count": 348
           },
           {
            "bin_end": 803994.4,
            "bin_start": 705070.6,
            "count": 351
           },
           {
            "bin_end": 902918.2000000001,
            "bin_start": 803994.4,
            "count": 353
           },
           {
            "bin_end": 1001842,
            "bin_start": 902918.2000000001,
            "count": 354
           }
          ],
          "max": "1001842",
          "min": "12604",
          "nan_count": 0,
          "unique_count": 3557
         }
        },
        {
         "dtype": "int64",
         "name": "onlineTransactions",
         "stats": {
          "histogram": [
           {
            "bin_end": 110245738.9,
            "bin_start": 11401767,
            "count": 348
           },
           {
            "bin_end": 209089710.8,
            "bin_start": 110245738.9,
            "count": 370
           },
           {
            "bin_end": 307933682.70000005,
            "bin_start": 209089710.8,
            "count": 351
           },
           {
            "bin_end": 406777654.6,
            "bin_start": 307933682.70000005,
            "count": 324
           },
           {
            "bin_end": 505621626.5,
            "bin_start": 406777654.6,
            "count": 367
           },
           {
            "bin_end": 604465598.4000001,
            "bin_start": 505621626.5,
            "count": 346
           },
           {
            "bin_end": 703309570.3000001,
            "bin_start": 604465598.4000001,
            "count": 380
           },
           {
            "bin_end": 802153542.2,
            "bin_start": 703309570.3000001,
            "count": 362
           },
           {
            "bin_end": 900997514.1,
            "bin_start": 802153542.2,
            "count": 360
           },
           {
            "bin_end": 999841486,
            "bin_start": 900997514.1,
            "count": 354
           }
          ],
          "max": "999841486",
          "min": "11401767",
          "nan_count": 0,
          "unique_count": 3562
         }
        },
        {
         "dtype": "int64",
         "name": "TotalTransactions",
         "stats": {
          "histogram": [
           {
            "bin_end": 110604303.3,
            "bin_start": 11782705,
            "count": 348
           },
           {
            "bin_end": 209425901.6,
            "bin_start": 110604303.3,
            "count": 370
           },
           {
            "bin_end": 308247499.9,
            "bin_start": 209425901.6,
            "count": 351
           },
           {
            "bin_end": 407069098.2,
            "bin_start": 308247499.9,
            "count": 319
           },
           {
            "bin_end": 505890696.5,
            "bin_start": 407069098.2,
            "count": 371
           },
           {
            "bin_end": 604712294.8,
            "bin_start": 505890696.5,
            "count": 347
           },
           {
            "bin_end": 703533893.1,
            "bin_start": 604712294.8,
            "count": 380
           },
           {
            "bin_end": 802355491.4,
            "bin_start": 703533893.1,
            "count": 360
           },
           {
            "bin_end": 901177089.6999999,
            "bin_start": 802355491.4,
            "count": 361
           },
           {
            "bin_end": 999998688,
            "bin_start": 901177089.6999999,
            "count": 355
           }
          ],
          "max": "999998688",
          "min": "11782705",
          "nan_count": 0,
          "unique_count": 3562
         }
        },
        {
         "dtype": "int64",
         "name": "NoOfclosedAccounts",
         "stats": {
          "histogram": [
           {
            "bin_end": 10039.6,
            "bin_start": 14,
            "count": 2664
           },
           {
            "bin_end": 20065.2,
            "bin_start": 10039.6,
            "count": 86
           },
           {
            "bin_end": 30090.800000000003,
            "bin_start": 20065.2,
            "count": 103
           },
           {
            "bin_end": 40116.4,
            "bin_start": 30090.800000000003,
            "count": 113
           },
           {
            "bin_end": 50142,
            "bin_start": 40116.4,
            "count": 86
           },
           {
            "bin_end": 60167.600000000006,
            "bin_start": 50142,
            "count": 102
           },
           {
            "bin_end": 70193.2,
            "bin_start": 60167.600000000006,
            "count": 98
           },
           {
            "bin_end": 80218.8,
            "bin_start": 70193.2,
            "count": 102
           },
           {
            "bin_end": 90244.40000000001,
            "bin_start": 80218.8,
            "count": 109
           },
           {
            "bin_end": 100270,
            "bin_start": 90244.40000000001,
            "count": 99
           }
          ],
          "max": "100270",
          "min": "14",
          "nan_count": 0,
          "unique_count": 1957
         }
        },
        {
         "dtype": "int64",
         "name": "NewAccountsOpened",
         "stats": {
          "histogram": [
           {
            "bin_end": 2020.3,
            "bin_start": 1128,
            "count": 370
           },
           {
            "bin_end": 2912.6,
            "bin_start": 2020.3,
            "count": 365
           },
           {
            "bin_end": 3804.8999999999996,
            "bin_start": 2912.6,
            "count": 330
           },
           {
            "bin_end": 4697.2,
            "bin_start": 3804.8999999999996,
            "count": 335
           },
           {
            "bin_end": 5589.5,
            "bin_start": 4697.2,
            "count": 362
           },
           {
            "bin_end": 6481.799999999999,
            "bin_start": 5589.5,
            "count": 317
           },
           {
            "bin_end": 7374.099999999999,
            "bin_start": 6481.799999999999,
            "count": 370
           },
           {
            "bin_end": 8266.4,
            "bin_start": 7374.099999999999,
            "count": 365
           },
           {
            "bin_end": 9158.7,
            "bin_start": 8266.4,
            "count": 360
           },
           {
            "bin_end": 10051,
            "bin_start": 9158.7,
            "count": 388
           }
          ],
          "max": "10051",
          "min": "1128",
          "nan_count": 0,
          "unique_count": 2938
         }
        },
        {
         "dtype": "int64",
         "name": "No.ofchequeBounces",
         "stats": {
          "histogram": [
           {
            "bin_end": 1018,
            "bin_start": 15,
            "count": 357
           },
           {
            "bin_end": 2021,
            "bin_start": 1018,
            "count": 370
           },
           {
            "bin_end": 3024,
            "bin_start": 2021,
            "count": 348
           },
           {
            "bin_end": 4027,
            "bin_start": 3024,
            "count": 375
           },
           {
            "bin_end": 5030,
            "bin_start": 4027,
            "count": 347
           },
           {
            "bin_end": 6033,
            "bin_start": 5030,
            "count": 365
           },
           {
            "bin_end": 7036,
            "bin_start": 6033,
            "count": 329
           },
           {
            "bin_end": 8039,
            "bin_start": 7036,
            "count": 341
           },
           {
            "bin_end": 9042,
            "bin_start": 8039,
            "count": 370
           },
           {
            "bin_end": 10045,
            "bin_start": 9042,
            "count": 360
           }
          ],
          "max": "10045",
          "min": "15",
          "nan_count": 0,
          "unique_count": 3000
         }
        },
        {
         "dtype": "int64",
         "name": "No.of failedtransactions",
         "stats": {
          "histogram": [
           {
            "bin_end": 1018917.2,
            "bin_start": 20833,
            "count": 362
           },
           {
            "bin_end": 2017001.4,
            "bin_start": 1018917.2,
            "count": 359
           },
           {
            "bin_end": 3015085.5999999996,
            "bin_start": 2017001.4,
            "count": 371
           },
           {
            "bin_end": 4013169.8,
            "bin_start": 3015085.5999999996,
            "count": 349
           },
           {
            "bin_end": 5011254,
            "bin_start": 4013169.8,
            "count": 364
           },
           {
            "bin_end": 6009338.199999999,
            "bin_start": 5011254,
            "count": 349
           },
           {
            "bin_end": 7007422.399999999,
            "bin_start": 6009338.199999999,
            "count": 353
           },
           {
            "bin_end": 8005506.6,
            "bin_start": 7007422.399999999,
            "count": 345
           },
           {
            "bin_end": 9003590.799999999,
            "bin_start": 8005506.6,
            "count": 342
           },
           {
            "bin_end": 10001675,
            "bin_start": 9003590.799999999,
            "count": 368
           }
          ],
          "max": "10001675",
          "min": "20833",
          "nan_count": 0,
          "unique_count": 3562
         }
        },
        {
         "dtype": "int64",
         "name": "YearOutflow",
         "stats": {
          "histogram": [
           {
            "bin_end": 11002461699.2,
            "bin_start": 1114196239,
            "count": 315
           },
           {
            "bin_end": 20890727159.4,
            "bin_start": 11002461699.2,
            "count": 378
           },
           {
            "bin_end": 30778992619.600002,
            "bin_start": 20890727159.4,
            "count": 408
           },
           {
            "bin_end": 40667258079.8,
            "bin_start": 30778992619.600002,
            "count": 362
           },
           {
            "bin_end": 50555523540,
            "bin_start": 40667258079.8,
            "count": 317
           },
           {
            "bin_end": 60443789000.200005,
            "bin_start": 50555523540,
            "count": 372
           },
           {
            "bin_end": 70332054460.40001,
            "bin_start": 60443789000.200005,
            "count": 383
           },
           {
            "bin_end": 80220319920.6,
            "bin_start": 70332054460.40001,
            "count": 346
           },
           {
            "bin_end": 90108585380.8,
            "bin_start": 80220319920.6,
            "count": 318
           },
           {
            "bin_end": 99996850841,
            "bin_start": 90108585380.8,
            "count": 363
           }
          ],
          "max": "99996850841",
          "min": "1114196239",
          "nan_count": 0,
          "unique_count": 3562
         }
        },
        {
         "dtype": "int64",
         "name": "_deepnote_index_column"
        }
       ],
       "row_count": 3562,
       "rows": [
        {
         "CurrentBalance": "69016351",
         "FMCG_CID": "191416",
         "ManualTransactions": "881084",
         "NewAccountsOpened": "2568",
         "No.of failedtransactions": "5815035",
         "No.ofchequeBounces": "1920",
         "NoOfclosedAccounts": "628",
         "TotalTransactions": "81388116",
         "YearInflow": "91506260144",
         "YearOutflow": "70559611954",
         "_deepnote_index_column": "0",
         "onlineTransactions": "80508181"
        },
        {
         "CurrentBalance": "78967829",
         "FMCG_CID": "209212",
         "ManualTransactions": "938424",
         "NewAccountsOpened": "4848",
         "No.of failedtransactions": "2064860",
         "No.ofchequeBounces": "1226",
         "NoOfclosedAccounts": "657",
         "TotalTransactions": "377174919",
         "YearInflow": "39488497795",
         "YearOutflow": "76650316850",
         "_deepnote_index_column": "1",
         "onlineTransactions": "376237471"
        },
        {
         "CurrentBalance": "90414487",
         "FMCG_CID": "198656",
         "ManualTransactions": "15711",
         "NewAccountsOpened": "4161",
         "No.of failedtransactions": "7078893",
         "No.ofchequeBounces": "9660",
         "NoOfclosedAccounts": "171",
         "TotalTransactions": "447256753",
         "YearInflow": "20882686190",
         "YearOutflow": "34697341013",
         "_deepnote_index_column": "2",
         "onlineTransactions": "447244560"
        },
        {
         "CurrentBalance": "6280075",
         "FMCG_CID": "112274",
         "ManualTransactions": "696044",
         "NewAccountsOpened": "7990",
         "No.of failedtransactions": "5060759",
         "No.ofchequeBounces": "7477",
         "NoOfclosedAccounts": "1023",
         "TotalTransactions": "751030847",
         "YearInflow": "99570394528",
         "YearOutflow": "52716316728",
         "_deepnote_index_column": "3",
         "onlineTransactions": "750336814"
        },
        {
         "CurrentBalance": "20924361",
         "FMCG_CID": "167709",
         "ManualTransactions": "335402",
         "NewAccountsOpened": "9150",
         "No.of failedtransactions": "1623524",
         "No.ofchequeBounces": "553",
         "NoOfclosedAccounts": "905",
         "TotalTransactions": "146138325",
         "YearInflow": "31245289761",
         "YearOutflow": "68610729503",
         "_deepnote_index_column": "4",
         "onlineTransactions": "145805047"
        },
        {
         "CurrentBalance": "2161363",
         "FMCG_CID": "152514",
         "ManualTransactions": "171126",
         "NewAccountsOpened": "6316",
         "No.of failedtransactions": "1986099",
         "No.ofchequeBounces": "875",
         "NoOfclosedAccounts": "849",
         "TotalTransactions": "546733812",
         "YearInflow": "40405972261",
         "YearOutflow": "57236540764",
         "_deepnote_index_column": "5",
         "onlineTransactions": "546564637"
        },
        {
         "CurrentBalance": "97708558",
         "FMCG_CID": "168248",
         "ManualTransactions": "710318",
         "NewAccountsOpened": "2608",
         "No.of failedtransactions": "8160581",
         "No.ofchequeBounces": "8699",
         "NoOfclosedAccounts": "572",
         "TotalTransactions": "747299224",
         "YearInflow": "61217256861",
         "YearOutflow": "13922332788",
         "_deepnote_index_column": "6",
         "onlineTransactions": "746591928"
        },
        {
         "CurrentBalance": "63705074",
         "FMCG_CID": "127210",
         "ManualTransactions": "819263",
         "NewAccountsOpened": "9413",
         "No.of failedtransactions": "9051656",
         "No.ofchequeBounces": "9066",
         "NoOfclosedAccounts": "160",
         "TotalTransactions": "979442851",
         "YearInflow": "32460022155",
         "YearOutflow": "32657422593",
         "_deepnote_index_column": "7",
         "onlineTransactions": "978627541"
        },
        {
         "CurrentBalance": "30297740",
         "FMCG_CID": "173085",
         "ManualTransactions": "388705",
         "NewAccountsOpened": "9811",
         "No.of failedtransactions": "6484858",
         "No.ofchequeBounces": "5529",
         "NoOfclosedAccounts": "308",
         "TotalTransactions": "432407236",
         "YearInflow": "65694235709",
         "YearOutflow": "16905688847",
         "_deepnote_index_column": "8",
         "onlineTransactions": "432022383"
        },
        {
         "CurrentBalance": "44455116",
         "FMCG_CID": "202281",
         "ManualTransactions": "39026",
         "NewAccountsOpened": "5413",
         "No.of failedtransactions": "3225681",
         "No.ofchequeBounces": "6101",
         "NoOfclosedAccounts": "332",
         "TotalTransactions": "349427131",
         "YearInflow": "20601278336",
         "YearOutflow": "12309119087",
         "_deepnote_index_column": "9",
         "onlineTransactions": "349390950"
        }
       ]
      },
      "text/html": [
       "<div>\n",
       "<style scoped>\n",
       "    .dataframe tbody tr th:only-of-type {\n",
       "        vertical-align: middle;\n",
       "    }\n",
       "\n",
       "    .dataframe tbody tr th {\n",
       "        vertical-align: top;\n",
       "    }\n",
       "\n",
       "    .dataframe thead th {\n",
       "        text-align: right;\n",
       "    }\n",
       "</style>\n",
       "<table border=\"1\" class=\"dataframe\">\n",
       "  <thead>\n",
       "    <tr style=\"text-align: right;\">\n",
       "      <th></th>\n",
       "      <th>FMCG_CID</th>\n",
       "      <th>CurrentBalance</th>\n",
       "      <th>YearInflow</th>\n",
       "      <th>ManualTransactions</th>\n",
       "      <th>onlineTransactions</th>\n",
       "      <th>TotalTransactions</th>\n",
       "      <th>NoOfclosedAccounts</th>\n",
       "      <th>NewAccountsOpened</th>\n",
       "      <th>No.ofchequeBounces</th>\n",
       "      <th>No.of failedtransactions</th>\n",
       "      <th>YearOutflow</th>\n",
       "    </tr>\n",
       "  </thead>\n",
       "  <tbody>\n",
       "    <tr>\n",
       "      <th>0</th>\n",
       "      <td>191416</td>\n",
       "      <td>69016351</td>\n",
       "      <td>91506260144</td>\n",
       "      <td>881084</td>\n",
       "      <td>80508181</td>\n",
       "      <td>81388116</td>\n",
       "      <td>628</td>\n",
       "      <td>2568</td>\n",
       "      <td>1920</td>\n",
       "      <td>5815035</td>\n",
       "      <td>70559611954</td>\n",
       "    </tr>\n",
       "    <tr>\n",
       "      <th>1</th>\n",
       "      <td>209212</td>\n",
       "      <td>78967829</td>\n",
       "      <td>39488497795</td>\n",
       "      <td>938424</td>\n",
       "      <td>376237471</td>\n",
       "      <td>377174919</td>\n",
       "      <td>657</td>\n",
       "      <td>4848</td>\n",
       "      <td>1226</td>\n",
       "      <td>2064860</td>\n",
       "      <td>76650316850</td>\n",
       "    </tr>\n",
       "    <tr>\n",
       "      <th>2</th>\n",
       "      <td>198656</td>\n",
       "      <td>90414487</td>\n",
       "      <td>20882686190</td>\n",
       "      <td>15711</td>\n",
       "      <td>447244560</td>\n",
       "      <td>447256753</td>\n",
       "      <td>171</td>\n",
       "      <td>4161</td>\n",
       "      <td>9660</td>\n",
       "      <td>7078893</td>\n",
       "      <td>34697341013</td>\n",
       "    </tr>\n",
       "    <tr>\n",
       "      <th>3</th>\n",
       "      <td>112274</td>\n",
       "      <td>6280075</td>\n",
       "      <td>99570394528</td>\n",
       "      <td>696044</td>\n",
       "      <td>750336814</td>\n",
       "      <td>751030847</td>\n",
       "      <td>1023</td>\n",
       "      <td>7990</td>\n",
       "      <td>7477</td>\n",
       "      <td>5060759</td>\n",
       "      <td>52716316728</td>\n",
       "    </tr>\n",
       "    <tr>\n",
       "      <th>4</th>\n",
       "      <td>167709</td>\n",
       "      <td>20924361</td>\n",
       "      <td>31245289761</td>\n",
       "      <td>335402</td>\n",
       "      <td>145805047</td>\n",
       "      <td>146138325</td>\n",
       "      <td>905</td>\n",
       "      <td>9150</td>\n",
       "      <td>553</td>\n",
       "      <td>1623524</td>\n",
       "      <td>68610729503</td>\n",
       "    </tr>\n",
       "    <tr>\n",
       "      <th>...</th>\n",
       "      <td>...</td>\n",
       "      <td>...</td>\n",
       "      <td>...</td>\n",
       "      <td>...</td>\n",
       "      <td>...</td>\n",
       "      <td>...</td>\n",
       "      <td>...</td>\n",
       "      <td>...</td>\n",
       "      <td>...</td>\n",
       "      <td>...</td>\n",
       "      <td>...</td>\n",
       "    </tr>\n",
       "    <tr>\n",
       "      <th>3557</th>\n",
       "      <td>177533</td>\n",
       "      <td>89792390</td>\n",
       "      <td>88959137721</td>\n",
       "      <td>304574</td>\n",
       "      <td>504674620</td>\n",
       "      <td>504975877</td>\n",
       "      <td>26991</td>\n",
       "      <td>6101</td>\n",
       "      <td>668</td>\n",
       "      <td>1665960</td>\n",
       "      <td>72733464307</td>\n",
       "    </tr>\n",
       "    <tr>\n",
       "      <th>3558</th>\n",
       "      <td>192011</td>\n",
       "      <td>95023319</td>\n",
       "      <td>7074381001</td>\n",
       "      <td>272775</td>\n",
       "      <td>537784287</td>\n",
       "      <td>538055290</td>\n",
       "      <td>63435</td>\n",
       "      <td>6368</td>\n",
       "      <td>7203</td>\n",
       "      <td>8969347</td>\n",
       "      <td>28044973777</td>\n",
       "    </tr>\n",
       "    <tr>\n",
       "      <th>3559</th>\n",
       "      <td>139443</td>\n",
       "      <td>18181001</td>\n",
       "      <td>85874788913</td>\n",
       "      <td>310596</td>\n",
       "      <td>522989501</td>\n",
       "      <td>523299375</td>\n",
       "      <td>33197</td>\n",
       "      <td>9347</td>\n",
       "      <td>7794</td>\n",
       "      <td>7907897</td>\n",
       "      <td>65412672883</td>\n",
       "    </tr>\n",
       "    <tr>\n",
       "      <th>3560</th>\n",
       "      <td>115618</td>\n",
       "      <td>2740737</td>\n",
       "      <td>53955602808</td>\n",
       "      <td>525284</td>\n",
       "      <td>434064343</td>\n",
       "      <td>434587065</td>\n",
       "      <td>55634</td>\n",
       "      <td>4733</td>\n",
       "      <td>2029</td>\n",
       "      <td>113484</td>\n",
       "      <td>66252535841</td>\n",
       "    </tr>\n",
       "    <tr>\n",
       "      <th>3561</th>\n",
       "      <td>123074</td>\n",
       "      <td>52642207</td>\n",
       "      <td>49582411735</td>\n",
       "      <td>81845</td>\n",
       "      <td>32961245</td>\n",
       "      <td>33040919</td>\n",
       "      <td>70698</td>\n",
       "      <td>9300</td>\n",
       "      <td>8313</td>\n",
       "      <td>8483265</td>\n",
       "      <td>18823729450</td>\n",
       "    </tr>\n",
       "  </tbody>\n",
       "</table>\n",
       "<p>3562 rows × 11 columns</p>\n",
       "</div>"
      ],
      "text/plain": [
       "      FMCG_CID  CurrentBalance   YearInflow  ManualTransactions  \\\n",
       "0       191416        69016351  91506260144              881084   \n",
       "1       209212        78967829  39488497795              938424   \n",
       "2       198656        90414487  20882686190               15711   \n",
       "3       112274         6280075  99570394528              696044   \n",
       "4       167709        20924361  31245289761              335402   \n",
       "...        ...             ...          ...                 ...   \n",
       "3557    177533        89792390  88959137721              304574   \n",
       "3558    192011        95023319   7074381001              272775   \n",
       "3559    139443        18181001  85874788913              310596   \n",
       "3560    115618         2740737  53955602808              525284   \n",
       "3561    123074        52642207  49582411735               81845   \n",
       "\n",
       "      onlineTransactions  TotalTransactions  NoOfclosedAccounts  \\\n",
       "0               80508181           81388116                 628   \n",
       "1              376237471          377174919                 657   \n",
       "2              447244560          447256753                 171   \n",
       "3              750336814          751030847                1023   \n",
       "4              145805047          146138325                 905   \n",
       "...                  ...                ...                 ...   \n",
       "3557           504674620          504975877               26991   \n",
       "3558           537784287          538055290               63435   \n",
       "3559           522989501          523299375               33197   \n",
       "3560           434064343          434587065               55634   \n",
       "3561            32961245           33040919               70698   \n",
       "\n",
       "      NewAccountsOpened  No.ofchequeBounces  No.of failedtransactions  \\\n",
       "0                  2568                1920                   5815035   \n",
       "1                  4848                1226                   2064860   \n",
       "2                  4161                9660                   7078893   \n",
       "3                  7990                7477                   5060759   \n",
       "4                  9150                 553                   1623524   \n",
       "...                 ...                 ...                       ...   \n",
       "3557               6101                 668                   1665960   \n",
       "3558               6368                7203                   8969347   \n",
       "3559               9347                7794                   7907897   \n",
       "3560               4733                2029                    113484   \n",
       "3561               9300                8313                   8483265   \n",
       "\n",
       "      YearOutflow  \n",
       "0     70559611954  \n",
       "1     76650316850  \n",
       "2     34697341013  \n",
       "3     52716316728  \n",
       "4     68610729503  \n",
       "...           ...  \n",
       "3557  72733464307  \n",
       "3558  28044973777  \n",
       "3559  65412672883  \n",
       "3560  66252535841  \n",
       "3561  18823729450  \n",
       "\n",
       "[3562 rows x 11 columns]"
      ]
     },
     "execution_count": 8,
     "metadata": {},
     "output_type": "execute_result"
    }
   ],
   "source": [
    "x"
   ]
  },
  {
   "cell_type": "code",
   "execution_count": 9,
   "metadata": {
    "cell_id": "e02c6176ab064f10a071b47e0e2ef785",
    "deepnote_cell_type": "code",
    "deepnote_to_be_reexecuted": false,
    "execution_millis": 136,
    "execution_start": 1675784182142,
    "source_hash": "ce04b77e",
    "tags": []
   },
   "outputs": [
    {
     "data": {
      "text/plain": [
       "0       2\n",
       "1       1\n",
       "2       0\n",
       "3       2\n",
       "4       1\n",
       "       ..\n",
       "3557    2\n",
       "3558    0\n",
       "3559    2\n",
       "3560    1\n",
       "3561    0\n",
       "Name: OverallPerspective, Length: 3562, dtype: int64"
      ]
     },
     "execution_count": 9,
     "metadata": {},
     "output_type": "execute_result"
    }
   ],
   "source": [
    "y"
   ]
  },
  {
   "cell_type": "code",
   "execution_count": 10,
   "metadata": {
    "cell_id": "b5e2cea6843b45f29ad52b9ebf997744",
    "deepnote_cell_type": "code",
    "deepnote_to_be_reexecuted": false,
    "execution_millis": 102,
    "execution_start": 1675784199145,
    "source_hash": "393fae4e",
    "tags": []
   },
   "outputs": [
    {
     "name": "stdout",
     "output_type": "stream",
     "text": [
      "XGBRegressor(base_score=None, booster=None, callbacks=None,\n",
      "             colsample_bylevel=None, colsample_bynode=None,\n",
      "             colsample_bytree=None, early_stopping_rounds=None,\n",
      "             enable_categorical=False, eval_metric=None, feature_types=None,\n",
      "             gamma=None, gpu_id=None, grow_policy=None, importance_type=None,\n",
      "             interaction_constraints=None, learning_rate=None, max_bin=None,\n",
      "             max_cat_threshold=None, max_cat_to_onehot=None,\n",
      "             max_delta_step=None, max_depth=None, max_leaves=None,\n",
      "             min_child_weight=None, missing=nan, monotone_constraints=None,\n",
      "             n_estimators=100, n_jobs=None, num_parallel_tree=None,\n",
      "             predictor=None, random_state=None, ...)\n"
     ]
    }
   ],
   "source": [
    "xtrain,xtest,ytrain,ytest = train_test_split(x,y,test_size=0.15)\n",
    "\n",
    "xgbr = XGBRegressor(verbosity=0)\n",
    "print(xgbr)"
   ]
  },
  {
   "cell_type": "code",
   "execution_count": 11,
   "metadata": {
    "cell_id": "c467e36e67744bc7817dc531e0ffa77b",
    "deepnote_cell_type": "code",
    "deepnote_to_be_reexecuted": false,
    "execution_millis": 1870,
    "execution_start": 1675784229784,
    "source_hash": "3bd71585",
    "tags": []
   },
   "outputs": [
    {
     "name": "stdout",
     "output_type": "stream",
     "text": [
      "training score is: 0.9996583103660449\n"
     ]
    }
   ],
   "source": [
    "xgbr.fit(xtrain,ytrain)\n",
    "score=xgbr.score(xtrain,ytrain)\n",
    "print('training score is:',score)\n"
   ]
  },
  {
   "cell_type": "code",
   "execution_count": 12,
   "metadata": {
    "cell_id": "f42753bf927247179cf4c089ab34d0a7",
    "deepnote_cell_type": "code",
    "deepnote_to_be_reexecuted": false,
    "execution_millis": 6257,
    "execution_start": 1675784261473,
    "source_hash": "d8dbad57",
    "tags": []
   },
   "outputs": [
    {
     "name": "stdout",
     "output_type": "stream",
     "text": [
      "cv mean score is: 0.954650406481101\n"
     ]
    }
   ],
   "source": [
    "cv_score = cross_val_score(xgbr,xtrain,ytrain,cv=10)\n",
    "print('cv mean score is:',cv_score.mean())\n"
   ]
  },
  {
   "cell_type": "code",
   "execution_count": 13,
   "metadata": {
    "cell_id": "d9932c46fe5647018f138e1500d9d2b1",
    "deepnote_cell_type": "code",
    "deepnote_to_be_reexecuted": false,
    "execution_millis": 54,
    "execution_start": 1675784499530,
    "source_hash": "2638dcf5",
    "tags": []
   },
   "outputs": [
    {
     "name": "stdout",
     "output_type": "stream",
     "text": [
      "MSE is: 0.026195754693069905\n",
      "rmse is: 0.013097877346534953\n"
     ]
    }
   ],
   "source": [
    "ypred=xgbr.predict(xtest)\n",
    "mse=mean_squared_error(ytest,ypred)\n",
    "print('MSE is:',mse)\n",
    "print('rmse is:',mse*(1/2.0))"
   ]
  },
  {
   "cell_type": "markdown",
   "metadata": {
    "created_in_deepnote_cell": true,
    "deepnote_cell_type": "markdown",
    "tags": []
   },
   "source": [
    "<a style='text-decoration:none;line-height:16px;display:flex;color:#5B5B62;padding:10px;justify-content:end;' href='https://deepnote.com?utm_source=created-in-deepnote-cell&projectId=7cfce29d-5008-4fbf-822b-abe734d55375' target=\"_blank\">\n",
    "<img alt='Created in deepnote.com' style='display:inline;max-height:16px;margin:0px;margin-right:7.5px;' src='data:image/svg+xml;base64,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' > </img>\n",
    "Created in <span style='font-weight:600;margin-left:4px;'>Deepnote</span></a>"
   ]
  }
 ],
 "metadata": {
  "deepnote": {},
  "deepnote_execution_queue": [],
  "deepnote_notebook_id": "88d1f217ddfe48cb8178243361638f3a",
  "kernelspec": {
   "display_name": "Python 3 (ipykernel)",
   "language": "python",
   "name": "python3"
  },
  "language_info": {
   "codemirror_mode": {
    "name": "ipython",
    "version": 3
   },
   "file_extension": ".py",
   "mimetype": "text/x-python",
   "name": "python",
   "nbconvert_exporter": "python",
   "pygments_lexer": "ipython3",
   "version": "3.9.13"
  }
 },
 "nbformat": 4,
 "nbformat_minor": 1
}
