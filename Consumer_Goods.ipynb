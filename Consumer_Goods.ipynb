{
 "cells": [
  {
   "cell_type": "code",
   "execution_count": 2,
   "id": "a8c80f7e",
   "metadata": {},
   "outputs": [],
   "source": [
    "from sklearn.neighbors import KNeighborsClassifier\n",
    "from sklearn import metrics\n",
    "import pandas as pd\n",
    "import numpy as np"
   ]
  },
  {
   "cell_type": "code",
   "execution_count": 3,
   "id": "57768fc1",
   "metadata": {},
   "outputs": [
    {
     "data": {
      "text/html": [
       "<div>\n",
       "<style scoped>\n",
       "    .dataframe tbody tr th:only-of-type {\n",
       "        vertical-align: middle;\n",
       "    }\n",
       "\n",
       "    .dataframe tbody tr th {\n",
       "        vertical-align: top;\n",
       "    }\n",
       "\n",
       "    .dataframe thead th {\n",
       "        text-align: right;\n",
       "    }\n",
       "</style>\n",
       "<table border=\"1\" class=\"dataframe\">\n",
       "  <thead>\n",
       "    <tr style=\"text-align: right;\">\n",
       "      <th></th>\n",
       "      <th>FMCG_CID</th>\n",
       "      <th>CurrentBalance</th>\n",
       "      <th>YearInflow</th>\n",
       "      <th>ManualTransactions</th>\n",
       "      <th>onlineTransactions</th>\n",
       "      <th>TotalTransactions</th>\n",
       "      <th>NoOfclosedAccounts</th>\n",
       "      <th>NewAccountsOpened</th>\n",
       "      <th>No.ofchequeBounces</th>\n",
       "      <th>No.of failedtransactions</th>\n",
       "      <th>YearOutflow</th>\n",
       "      <th>OverallPerspective</th>\n",
       "    </tr>\n",
       "  </thead>\n",
       "  <tbody>\n",
       "    <tr>\n",
       "      <th>0</th>\n",
       "      <td>191416</td>\n",
       "      <td>69016351</td>\n",
       "      <td>91506260144</td>\n",
       "      <td>881084</td>\n",
       "      <td>80508181</td>\n",
       "      <td>81388116</td>\n",
       "      <td>628</td>\n",
       "      <td>2568</td>\n",
       "      <td>1920</td>\n",
       "      <td>5815035</td>\n",
       "      <td>70559611954</td>\n",
       "      <td>2</td>\n",
       "    </tr>\n",
       "    <tr>\n",
       "      <th>1</th>\n",
       "      <td>209212</td>\n",
       "      <td>78967829</td>\n",
       "      <td>39488497795</td>\n",
       "      <td>938424</td>\n",
       "      <td>376237471</td>\n",
       "      <td>377174919</td>\n",
       "      <td>657</td>\n",
       "      <td>4848</td>\n",
       "      <td>1226</td>\n",
       "      <td>2064860</td>\n",
       "      <td>76650316850</td>\n",
       "      <td>1</td>\n",
       "    </tr>\n",
       "    <tr>\n",
       "      <th>2</th>\n",
       "      <td>198656</td>\n",
       "      <td>90414487</td>\n",
       "      <td>20882686190</td>\n",
       "      <td>15711</td>\n",
       "      <td>447244560</td>\n",
       "      <td>447256753</td>\n",
       "      <td>171</td>\n",
       "      <td>4161</td>\n",
       "      <td>9660</td>\n",
       "      <td>7078893</td>\n",
       "      <td>34697341013</td>\n",
       "      <td>0</td>\n",
       "    </tr>\n",
       "    <tr>\n",
       "      <th>3</th>\n",
       "      <td>112274</td>\n",
       "      <td>6280075</td>\n",
       "      <td>99570394528</td>\n",
       "      <td>696044</td>\n",
       "      <td>750336814</td>\n",
       "      <td>751030847</td>\n",
       "      <td>1023</td>\n",
       "      <td>7990</td>\n",
       "      <td>7477</td>\n",
       "      <td>5060759</td>\n",
       "      <td>52716316728</td>\n",
       "      <td>2</td>\n",
       "    </tr>\n",
       "    <tr>\n",
       "      <th>4</th>\n",
       "      <td>167709</td>\n",
       "      <td>20924361</td>\n",
       "      <td>31245289761</td>\n",
       "      <td>335402</td>\n",
       "      <td>145805047</td>\n",
       "      <td>146138325</td>\n",
       "      <td>905</td>\n",
       "      <td>9150</td>\n",
       "      <td>553</td>\n",
       "      <td>1623524</td>\n",
       "      <td>68610729503</td>\n",
       "      <td>1</td>\n",
       "    </tr>\n",
       "    <tr>\n",
       "      <th>...</th>\n",
       "      <td>...</td>\n",
       "      <td>...</td>\n",
       "      <td>...</td>\n",
       "      <td>...</td>\n",
       "      <td>...</td>\n",
       "      <td>...</td>\n",
       "      <td>...</td>\n",
       "      <td>...</td>\n",
       "      <td>...</td>\n",
       "      <td>...</td>\n",
       "      <td>...</td>\n",
       "      <td>...</td>\n",
       "    </tr>\n",
       "    <tr>\n",
       "      <th>3557</th>\n",
       "      <td>177533</td>\n",
       "      <td>89792390</td>\n",
       "      <td>88959137721</td>\n",
       "      <td>304574</td>\n",
       "      <td>504674620</td>\n",
       "      <td>504975877</td>\n",
       "      <td>26991</td>\n",
       "      <td>6101</td>\n",
       "      <td>668</td>\n",
       "      <td>1665960</td>\n",
       "      <td>72733464307</td>\n",
       "      <td>2</td>\n",
       "    </tr>\n",
       "    <tr>\n",
       "      <th>3558</th>\n",
       "      <td>192011</td>\n",
       "      <td>95023319</td>\n",
       "      <td>7074381001</td>\n",
       "      <td>272775</td>\n",
       "      <td>537784287</td>\n",
       "      <td>538055290</td>\n",
       "      <td>63435</td>\n",
       "      <td>6368</td>\n",
       "      <td>7203</td>\n",
       "      <td>8969347</td>\n",
       "      <td>28044973777</td>\n",
       "      <td>0</td>\n",
       "    </tr>\n",
       "    <tr>\n",
       "      <th>3559</th>\n",
       "      <td>139443</td>\n",
       "      <td>18181001</td>\n",
       "      <td>85874788913</td>\n",
       "      <td>310596</td>\n",
       "      <td>522989501</td>\n",
       "      <td>523299375</td>\n",
       "      <td>33197</td>\n",
       "      <td>9347</td>\n",
       "      <td>7794</td>\n",
       "      <td>7907897</td>\n",
       "      <td>65412672883</td>\n",
       "      <td>2</td>\n",
       "    </tr>\n",
       "    <tr>\n",
       "      <th>3560</th>\n",
       "      <td>115618</td>\n",
       "      <td>2740737</td>\n",
       "      <td>53955602808</td>\n",
       "      <td>525284</td>\n",
       "      <td>434064343</td>\n",
       "      <td>434587065</td>\n",
       "      <td>55634</td>\n",
       "      <td>4733</td>\n",
       "      <td>2029</td>\n",
       "      <td>113484</td>\n",
       "      <td>66252535841</td>\n",
       "      <td>1</td>\n",
       "    </tr>\n",
       "    <tr>\n",
       "      <th>3561</th>\n",
       "      <td>123074</td>\n",
       "      <td>52642207</td>\n",
       "      <td>49582411735</td>\n",
       "      <td>81845</td>\n",
       "      <td>32961245</td>\n",
       "      <td>33040919</td>\n",
       "      <td>70698</td>\n",
       "      <td>9300</td>\n",
       "      <td>8313</td>\n",
       "      <td>8483265</td>\n",
       "      <td>18823729450</td>\n",
       "      <td>0</td>\n",
       "    </tr>\n",
       "  </tbody>\n",
       "</table>\n",
       "<p>3562 rows × 12 columns</p>\n",
       "</div>"
      ],
      "text/plain": [
       "      FMCG_CID  CurrentBalance   YearInflow  ManualTransactions  \\\n",
       "0       191416        69016351  91506260144              881084   \n",
       "1       209212        78967829  39488497795              938424   \n",
       "2       198656        90414487  20882686190               15711   \n",
       "3       112274         6280075  99570394528              696044   \n",
       "4       167709        20924361  31245289761              335402   \n",
       "...        ...             ...          ...                 ...   \n",
       "3557    177533        89792390  88959137721              304574   \n",
       "3558    192011        95023319   7074381001              272775   \n",
       "3559    139443        18181001  85874788913              310596   \n",
       "3560    115618         2740737  53955602808              525284   \n",
       "3561    123074        52642207  49582411735               81845   \n",
       "\n",
       "      onlineTransactions  TotalTransactions  NoOfclosedAccounts  \\\n",
       "0               80508181           81388116                 628   \n",
       "1              376237471          377174919                 657   \n",
       "2              447244560          447256753                 171   \n",
       "3              750336814          751030847                1023   \n",
       "4              145805047          146138325                 905   \n",
       "...                  ...                ...                 ...   \n",
       "3557           504674620          504975877               26991   \n",
       "3558           537784287          538055290               63435   \n",
       "3559           522989501          523299375               33197   \n",
       "3560           434064343          434587065               55634   \n",
       "3561            32961245           33040919               70698   \n",
       "\n",
       "      NewAccountsOpened  No.ofchequeBounces  No.of failedtransactions  \\\n",
       "0                  2568                1920                   5815035   \n",
       "1                  4848                1226                   2064860   \n",
       "2                  4161                9660                   7078893   \n",
       "3                  7990                7477                   5060759   \n",
       "4                  9150                 553                   1623524   \n",
       "...                 ...                 ...                       ...   \n",
       "3557               6101                 668                   1665960   \n",
       "3558               6368                7203                   8969347   \n",
       "3559               9347                7794                   7907897   \n",
       "3560               4733                2029                    113484   \n",
       "3561               9300                8313                   8483265   \n",
       "\n",
       "      YearOutflow  OverallPerspective  \n",
       "0     70559611954                   2  \n",
       "1     76650316850                   1  \n",
       "2     34697341013                   0  \n",
       "3     52716316728                   2  \n",
       "4     68610729503                   1  \n",
       "...           ...                 ...  \n",
       "3557  72733464307                   2  \n",
       "3558  28044973777                   0  \n",
       "3559  65412672883                   2  \n",
       "3560  66252535841                   1  \n",
       "3561  18823729450                   0  \n",
       "\n",
       "[3562 rows x 12 columns]"
      ]
     },
     "execution_count": 3,
     "metadata": {},
     "output_type": "execute_result"
    }
   ],
   "source": [
    "data=pd.read_csv(r\"C:\\Users\\LAVANYA\\Desktop\\Lavanya -DS notes and task\\outflowset.csv\")\n",
    "data"
   ]
  },
  {
   "cell_type": "code",
   "execution_count": 6,
   "id": "d346da65",
   "metadata": {},
   "outputs": [],
   "source": [
    "x=data.drop(columns='OverallPerspective') \n",
    "y=data['OverallPerspective']"
   ]
  },
  {
   "cell_type": "code",
   "execution_count": 7,
   "id": "9d0b16a9",
   "metadata": {},
   "outputs": [
    {
     "data": {
      "text/html": [
       "<div>\n",
       "<style scoped>\n",
       "    .dataframe tbody tr th:only-of-type {\n",
       "        vertical-align: middle;\n",
       "    }\n",
       "\n",
       "    .dataframe tbody tr th {\n",
       "        vertical-align: top;\n",
       "    }\n",
       "\n",
       "    .dataframe thead th {\n",
       "        text-align: right;\n",
       "    }\n",
       "</style>\n",
       "<table border=\"1\" class=\"dataframe\">\n",
       "  <thead>\n",
       "    <tr style=\"text-align: right;\">\n",
       "      <th></th>\n",
       "      <th>FMCG_CID</th>\n",
       "      <th>CurrentBalance</th>\n",
       "      <th>YearInflow</th>\n",
       "      <th>ManualTransactions</th>\n",
       "      <th>onlineTransactions</th>\n",
       "      <th>TotalTransactions</th>\n",
       "      <th>NoOfclosedAccounts</th>\n",
       "      <th>NewAccountsOpened</th>\n",
       "      <th>No.ofchequeBounces</th>\n",
       "      <th>No.of failedtransactions</th>\n",
       "      <th>YearOutflow</th>\n",
       "    </tr>\n",
       "  </thead>\n",
       "  <tbody>\n",
       "    <tr>\n",
       "      <th>0</th>\n",
       "      <td>191416</td>\n",
       "      <td>69016351</td>\n",
       "      <td>91506260144</td>\n",
       "      <td>881084</td>\n",
       "      <td>80508181</td>\n",
       "      <td>81388116</td>\n",
       "      <td>628</td>\n",
       "      <td>2568</td>\n",
       "      <td>1920</td>\n",
       "      <td>5815035</td>\n",
       "      <td>70559611954</td>\n",
       "    </tr>\n",
       "    <tr>\n",
       "      <th>1</th>\n",
       "      <td>209212</td>\n",
       "      <td>78967829</td>\n",
       "      <td>39488497795</td>\n",
       "      <td>938424</td>\n",
       "      <td>376237471</td>\n",
       "      <td>377174919</td>\n",
       "      <td>657</td>\n",
       "      <td>4848</td>\n",
       "      <td>1226</td>\n",
       "      <td>2064860</td>\n",
       "      <td>76650316850</td>\n",
       "    </tr>\n",
       "    <tr>\n",
       "      <th>2</th>\n",
       "      <td>198656</td>\n",
       "      <td>90414487</td>\n",
       "      <td>20882686190</td>\n",
       "      <td>15711</td>\n",
       "      <td>447244560</td>\n",
       "      <td>447256753</td>\n",
       "      <td>171</td>\n",
       "      <td>4161</td>\n",
       "      <td>9660</td>\n",
       "      <td>7078893</td>\n",
       "      <td>34697341013</td>\n",
       "    </tr>\n",
       "    <tr>\n",
       "      <th>3</th>\n",
       "      <td>112274</td>\n",
       "      <td>6280075</td>\n",
       "      <td>99570394528</td>\n",
       "      <td>696044</td>\n",
       "      <td>750336814</td>\n",
       "      <td>751030847</td>\n",
       "      <td>1023</td>\n",
       "      <td>7990</td>\n",
       "      <td>7477</td>\n",
       "      <td>5060759</td>\n",
       "      <td>52716316728</td>\n",
       "    </tr>\n",
       "    <tr>\n",
       "      <th>4</th>\n",
       "      <td>167709</td>\n",
       "      <td>20924361</td>\n",
       "      <td>31245289761</td>\n",
       "      <td>335402</td>\n",
       "      <td>145805047</td>\n",
       "      <td>146138325</td>\n",
       "      <td>905</td>\n",
       "      <td>9150</td>\n",
       "      <td>553</td>\n",
       "      <td>1623524</td>\n",
       "      <td>68610729503</td>\n",
       "    </tr>\n",
       "    <tr>\n",
       "      <th>...</th>\n",
       "      <td>...</td>\n",
       "      <td>...</td>\n",
       "      <td>...</td>\n",
       "      <td>...</td>\n",
       "      <td>...</td>\n",
       "      <td>...</td>\n",
       "      <td>...</td>\n",
       "      <td>...</td>\n",
       "      <td>...</td>\n",
       "      <td>...</td>\n",
       "      <td>...</td>\n",
       "    </tr>\n",
       "    <tr>\n",
       "      <th>3557</th>\n",
       "      <td>177533</td>\n",
       "      <td>89792390</td>\n",
       "      <td>88959137721</td>\n",
       "      <td>304574</td>\n",
       "      <td>504674620</td>\n",
       "      <td>504975877</td>\n",
       "      <td>26991</td>\n",
       "      <td>6101</td>\n",
       "      <td>668</td>\n",
       "      <td>1665960</td>\n",
       "      <td>72733464307</td>\n",
       "    </tr>\n",
       "    <tr>\n",
       "      <th>3558</th>\n",
       "      <td>192011</td>\n",
       "      <td>95023319</td>\n",
       "      <td>7074381001</td>\n",
       "      <td>272775</td>\n",
       "      <td>537784287</td>\n",
       "      <td>538055290</td>\n",
       "      <td>63435</td>\n",
       "      <td>6368</td>\n",
       "      <td>7203</td>\n",
       "      <td>8969347</td>\n",
       "      <td>28044973777</td>\n",
       "    </tr>\n",
       "    <tr>\n",
       "      <th>3559</th>\n",
       "      <td>139443</td>\n",
       "      <td>18181001</td>\n",
       "      <td>85874788913</td>\n",
       "      <td>310596</td>\n",
       "      <td>522989501</td>\n",
       "      <td>523299375</td>\n",
       "      <td>33197</td>\n",
       "      <td>9347</td>\n",
       "      <td>7794</td>\n",
       "      <td>7907897</td>\n",
       "      <td>65412672883</td>\n",
       "    </tr>\n",
       "    <tr>\n",
       "      <th>3560</th>\n",
       "      <td>115618</td>\n",
       "      <td>2740737</td>\n",
       "      <td>53955602808</td>\n",
       "      <td>525284</td>\n",
       "      <td>434064343</td>\n",
       "      <td>434587065</td>\n",
       "      <td>55634</td>\n",
       "      <td>4733</td>\n",
       "      <td>2029</td>\n",
       "      <td>113484</td>\n",
       "      <td>66252535841</td>\n",
       "    </tr>\n",
       "    <tr>\n",
       "      <th>3561</th>\n",
       "      <td>123074</td>\n",
       "      <td>52642207</td>\n",
       "      <td>49582411735</td>\n",
       "      <td>81845</td>\n",
       "      <td>32961245</td>\n",
       "      <td>33040919</td>\n",
       "      <td>70698</td>\n",
       "      <td>9300</td>\n",
       "      <td>8313</td>\n",
       "      <td>8483265</td>\n",
       "      <td>18823729450</td>\n",
       "    </tr>\n",
       "  </tbody>\n",
       "</table>\n",
       "<p>3562 rows × 11 columns</p>\n",
       "</div>"
      ],
      "text/plain": [
       "      FMCG_CID  CurrentBalance   YearInflow  ManualTransactions  \\\n",
       "0       191416        69016351  91506260144              881084   \n",
       "1       209212        78967829  39488497795              938424   \n",
       "2       198656        90414487  20882686190               15711   \n",
       "3       112274         6280075  99570394528              696044   \n",
       "4       167709        20924361  31245289761              335402   \n",
       "...        ...             ...          ...                 ...   \n",
       "3557    177533        89792390  88959137721              304574   \n",
       "3558    192011        95023319   7074381001              272775   \n",
       "3559    139443        18181001  85874788913              310596   \n",
       "3560    115618         2740737  53955602808              525284   \n",
       "3561    123074        52642207  49582411735               81845   \n",
       "\n",
       "      onlineTransactions  TotalTransactions  NoOfclosedAccounts  \\\n",
       "0               80508181           81388116                 628   \n",
       "1              376237471          377174919                 657   \n",
       "2              447244560          447256753                 171   \n",
       "3              750336814          751030847                1023   \n",
       "4              145805047          146138325                 905   \n",
       "...                  ...                ...                 ...   \n",
       "3557           504674620          504975877               26991   \n",
       "3558           537784287          538055290               63435   \n",
       "3559           522989501          523299375               33197   \n",
       "3560           434064343          434587065               55634   \n",
       "3561            32961245           33040919               70698   \n",
       "\n",
       "      NewAccountsOpened  No.ofchequeBounces  No.of failedtransactions  \\\n",
       "0                  2568                1920                   5815035   \n",
       "1                  4848                1226                   2064860   \n",
       "2                  4161                9660                   7078893   \n",
       "3                  7990                7477                   5060759   \n",
       "4                  9150                 553                   1623524   \n",
       "...                 ...                 ...                       ...   \n",
       "3557               6101                 668                   1665960   \n",
       "3558               6368                7203                   8969347   \n",
       "3559               9347                7794                   7907897   \n",
       "3560               4733                2029                    113484   \n",
       "3561               9300                8313                   8483265   \n",
       "\n",
       "      YearOutflow  \n",
       "0     70559611954  \n",
       "1     76650316850  \n",
       "2     34697341013  \n",
       "3     52716316728  \n",
       "4     68610729503  \n",
       "...           ...  \n",
       "3557  72733464307  \n",
       "3558  28044973777  \n",
       "3559  65412672883  \n",
       "3560  66252535841  \n",
       "3561  18823729450  \n",
       "\n",
       "[3562 rows x 11 columns]"
      ]
     },
     "execution_count": 7,
     "metadata": {},
     "output_type": "execute_result"
    }
   ],
   "source": [
    "x"
   ]
  },
  {
   "cell_type": "code",
   "execution_count": 8,
   "id": "57c922cd",
   "metadata": {},
   "outputs": [
    {
     "data": {
      "text/plain": [
       "0       2\n",
       "1       1\n",
       "2       0\n",
       "3       2\n",
       "4       1\n",
       "       ..\n",
       "3557    2\n",
       "3558    0\n",
       "3559    2\n",
       "3560    1\n",
       "3561    0\n",
       "Name: OverallPerspective, Length: 3562, dtype: int64"
      ]
     },
     "execution_count": 8,
     "metadata": {},
     "output_type": "execute_result"
    }
   ],
   "source": [
    "y"
   ]
  },
  {
   "cell_type": "code",
   "execution_count": 11,
   "id": "01b89cb6",
   "metadata": {},
   "outputs": [],
   "source": [
    "#RF\n",
    "from sklearn.ensemble import RandomForestClassifier\n",
    "from sklearn.model_selection import train_test_split\n",
    "from sklearn.preprocessing import LabelEncoder,StandardScaler\n"
   ]
  },
  {
   "cell_type": "code",
   "execution_count": 13,
   "id": "29babbc6",
   "metadata": {},
   "outputs": [
    {
     "name": "stdout",
     "output_type": "stream",
     "text": [
      "X Train :  (2671, 11)\n",
      "X Test  :  (891, 11)\n",
      "Y Train :  (2671,)\n",
      "Y Test  :  (891,)\n"
     ]
    }
   ],
   "source": [
    "X_train, X_test, y_train, y_test = train_test_split(x, y, test_size=0.25, random_state=0)\n",
    "\n",
    "print(\"X Train : \", X_train.shape)\n",
    "print(\"X Test  : \", X_test.shape)\n",
    "print(\"Y Train : \", y_train.shape)\n",
    "print(\"Y Test  : \", y_test.shape)"
   ]
  },
  {
   "cell_type": "code",
   "execution_count": 14,
   "id": "9239b4c3",
   "metadata": {},
   "outputs": [
    {
     "data": {
      "text/plain": [
       "RandomForestClassifier(criterion='entropy', n_estimators=10, random_state=0)"
      ]
     },
     "execution_count": 14,
     "metadata": {},
     "output_type": "execute_result"
    }
   ],
   "source": [
    "#entropy\n",
    "clfr=RandomForestClassifier(n_estimators=10,criterion='entropy',random_state=0)\n",
    "\n",
    "clfr.fit(X_train,y_train)"
   ]
  },
  {
   "cell_type": "code",
   "execution_count": 15,
   "id": "d385f137",
   "metadata": {},
   "outputs": [
    {
     "data": {
      "text/plain": [
       "RandomForestClassifier(n_estimators=10, random_state=0)"
      ]
     },
     "execution_count": 15,
     "metadata": {},
     "output_type": "execute_result"
    }
   ],
   "source": [
    "#gini index\n",
    "\n",
    "clfr1=RandomForestClassifier(n_estimators=10,criterion='gini',random_state=0)\n",
    "\n",
    "clfr1.fit(X_train,y_train)"
   ]
  },
  {
   "cell_type": "code",
   "execution_count": 16,
   "id": "8682b5c5",
   "metadata": {},
   "outputs": [],
   "source": [
    "ypre=clfr.predict(X_test)#entropy prediction\n",
    "ypre1=clfr1.predict(X_test)#gini entropy prediction"
   ]
  },
  {
   "cell_type": "code",
   "execution_count": 17,
   "id": "999c8cd6",
   "metadata": {},
   "outputs": [
    {
     "name": "stdout",
     "output_type": "stream",
     "text": [
      "entropy Accuracy Score of entropy: 96.07182940516273\n"
     ]
    }
   ],
   "source": [
    "a=metrics.accuracy_score(y_test,ypre)\n",
    "print('entropy Accuracy Score of entropy:',a*100)"
   ]
  },
  {
   "cell_type": "code",
   "execution_count": 18,
   "id": "d5235856",
   "metadata": {},
   "outputs": [
    {
     "name": "stdout",
     "output_type": "stream",
     "text": [
      "entropy Accuracy Score of gini: 95.39842873176207\n"
     ]
    }
   ],
   "source": [
    "g=metrics.accuracy_score(y_test,ypre1)\n",
    "print('entropy Accuracy Score of gini:',g*100)"
   ]
  },
  {
   "cell_type": "code",
   "execution_count": 19,
   "id": "e7906561",
   "metadata": {},
   "outputs": [
    {
     "name": "stdout",
     "output_type": "stream",
     "text": [
      "entropy - confusion matrix\n",
      "--------------------\n",
      "\n",
      "[[206   9   0]\n",
      " [  6 474   4]\n",
      " [  0  16 176]]\n",
      "gini - confusion matrix\n",
      "--------------------\n",
      "\n",
      "[[195  20   0]\n",
      " [  4 478   2]\n",
      " [  0  15 177]]\n"
     ]
    }
   ],
   "source": [
    "print('entropy - confusion matrix\\n--------------------\\n')\n",
    "print(metrics.confusion_matrix(y_test,ypre))\n",
    "print('gini - confusion matrix\\n--------------------\\n')\n",
    "print(metrics.confusion_matrix(y_test,ypre1))"
   ]
  },
  {
   "cell_type": "code",
   "execution_count": 20,
   "id": "c59df9ce",
   "metadata": {},
   "outputs": [
    {
     "name": "stdout",
     "output_type": "stream",
     "text": [
      "entropy result\n",
      "--------------\n",
      "              precision    recall  f1-score   support\n",
      "\n",
      "           0       0.97      0.96      0.96       215\n",
      "           1       0.95      0.98      0.96       484\n",
      "           2       0.98      0.92      0.95       192\n",
      "\n",
      "    accuracy                           0.96       891\n",
      "   macro avg       0.97      0.95      0.96       891\n",
      "weighted avg       0.96      0.96      0.96       891\n",
      "\n",
      "gini index result\n",
      "----------------------\n",
      "              precision    recall  f1-score   support\n",
      "\n",
      "           0       0.98      0.91      0.94       215\n",
      "           1       0.93      0.99      0.96       484\n",
      "           2       0.99      0.92      0.95       192\n",
      "\n",
      "    accuracy                           0.95       891\n",
      "   macro avg       0.97      0.94      0.95       891\n",
      "weighted avg       0.96      0.95      0.95       891\n",
      "\n"
     ]
    }
   ],
   "source": [
    "print('entropy result\\n--------------')\n",
    "print(metrics.classification_report(y_test,ypre))\n",
    "print('gini index result\\n----------------------')\n",
    "print(metrics.classification_report(y_test,ypre1))"
   ]
  },
  {
   "cell_type": "code",
   "execution_count": 22,
   "id": "ed77c517",
   "metadata": {},
   "outputs": [
    {
     "name": "stdout",
     "output_type": "stream",
     "text": [
      "X Train :  (2849, 11)\n",
      "X Test  :  (713, 11)\n",
      "Y Train :  (2849,)\n",
      "Y Test  :  (713,)\n"
     ]
    }
   ],
   "source": [
    "#knn\n",
    "from sklearn.neighbors import  KNeighborsClassifier\n",
    "from sklearn import metrics\n",
    "\n",
    "knn = KNeighborsClassifier(n_neighbors=3) # here n_neighbors is k \n",
    "X_train, X_test, y_train, y_test = train_test_split(x, y, test_size=0.20, random_state=0)\n",
    "\n",
    "print(\"X Train : \", X_train.shape)\n",
    "print(\"X Test  : \", X_test.shape)\n",
    "print(\"Y Train : \", y_train.shape)\n",
    "print(\"Y Test  : \", y_test.shape)\n"
   ]
  },
  {
   "cell_type": "code",
   "execution_count": 23,
   "id": "3d772898",
   "metadata": {},
   "outputs": [
    {
     "name": "stderr",
     "output_type": "stream",
     "text": [
      "C:\\Users\\LAVANYA\\anaconda3\\lib\\site-packages\\sklearn\\neighbors\\_classification.py:228: FutureWarning: Unlike other reduction functions (e.g. `skew`, `kurtosis`), the default behavior of `mode` typically preserves the axis it acts along. In SciPy 1.11.0, this behavior will change: the default value of `keepdims` will become False, the `axis` over which the statistic is taken will be eliminated, and the value None will no longer be accepted. Set `keepdims` to True or False to avoid this warning.\n",
      "  mode, _ = stats.mode(_y[neigh_ind, k], axis=1)\n"
     ]
    }
   ],
   "source": [
    "knn.fit(X_train,y_train)\n",
    "predictions = knn.predict(X_test)"
   ]
  },
  {
   "cell_type": "code",
   "execution_count": 24,
   "id": "9df7c3be",
   "metadata": {},
   "outputs": [
    {
     "data": {
      "text/plain": [
       "array([[174,   5,   0],\n",
       "       [  5, 376,   2],\n",
       "       [  0,   2, 149]], dtype=int64)"
      ]
     },
     "execution_count": 24,
     "metadata": {},
     "output_type": "execute_result"
    }
   ],
   "source": [
    "met=metrics.confusion_matrix(y_test,predictions)\n",
    "met"
   ]
  },
  {
   "cell_type": "code",
   "execution_count": 26,
   "id": "4aca07de",
   "metadata": {},
   "outputs": [
    {
     "name": "stdout",
     "output_type": "stream",
     "text": [
      "classification report               precision    recall  f1-score   support\n",
      "\n",
      "           0       0.97      0.97      0.97       179\n",
      "           1       0.98      0.98      0.98       383\n",
      "           2       0.99      0.99      0.99       151\n",
      "\n",
      "    accuracy                           0.98       713\n",
      "   macro avg       0.98      0.98      0.98       713\n",
      "weighted avg       0.98      0.98      0.98       713\n",
      "\n"
     ]
    }
   ],
   "source": [
    "print(\"classification report\",metrics.classification_report(y_test,predictions))\n"
   ]
  },
  {
   "cell_type": "code",
   "execution_count": 28,
   "id": "cf19d19d",
   "metadata": {},
   "outputs": [
    {
     "name": "stdout",
     "output_type": "stream",
     "text": [
      "Accuracy score of KNN is 98.03646563814866\n"
     ]
    }
   ],
   "source": [
    "print(\"Accuracy score of KNN is\",metrics.accuracy_score(y_test,predictions)*100)"
   ]
  },
  {
   "cell_type": "code",
   "execution_count": 6,
   "id": "9a12b672",
   "metadata": {},
   "outputs": [
    {
     "data": {
      "image/png": "[encoded data removed]",
      "text/plain": [
       "<Figure size 640x480 with 1 Axes>"
      ]
     },
     "metadata": {},
     "output_type": "display_data"
    }
   ],
   "source": [
    "#The best algorithm for this dataset is XG_Boost with 99%\n",
    "\n",
    "import matplotlib.pyplot as plt\n",
    "\n",
    "accuracy = [95,98,99]\n",
    "color_code = ['y','r','b']\n",
    "deviate_fraction = [0,0,0.1]\n",
    "Algorithm = ['RF','KNN','XG']\n",
    "plt.pie(accuracy,colors=color_code,labels=Algorithm,explode=deviate_fraction)\n",
    "plt.title('Accuracy')\n",
    "plt.show()"
   ]
  },
  {
   "cell_type": "code",
   "execution_count": null,
   "id": "49d11f3f",
   "metadata": {},
   "outputs": [],
   "source": []
  }
 ],
 "metadata": {
  "kernelspec": {
   "display_name": "Python 3 (ipykernel)",
   "language": "python",
   "name": "python3"
  },
  "language_info": {
   "codemirror_mode": {
    "name": "ipython",
    "version": 3
   },
   "file_extension": ".py",
   "mimetype": "text/x-python",
   "name": "python",
   "nbconvert_exporter": "python",
   "pygments_lexer": "ipython3",
   "version": "3.9.13"
  }
 },
 "nbformat": 4,
 "nbformat_minor": 5
}
